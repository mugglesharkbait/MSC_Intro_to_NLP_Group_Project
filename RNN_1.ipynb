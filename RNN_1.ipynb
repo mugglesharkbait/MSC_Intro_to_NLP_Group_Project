{
 "cells": [
  {
   "cell_type": "code",
   "execution_count": null,
   "metadata": {},
   "outputs": [],
   "source": [
    "import torch\n",
    "import torch.nn as nn\n",
    "import torch.optim as optim\n",
    "\n",
    "# Define your RNN model\n",
    "class Seq2SeqModel(nn.Module):\n",
    "    def __init__(self, input_size, hidden_size, output_size):\n",
    "        super(Seq2SeqModel, self).__init__()\n",
    "        self.embedding = nn.Embedding(input_size, hidden_size)\n",
    "        self.encoder = nn.LSTM(hidden_size, hidden_size)\n",
    "        self.decoder = nn.LSTM(hidden_size, hidden_size)\n",
    "        self.fc = nn.Linear(hidden_size, output_size)\n",
    "\n",
    "    def forward(self, input_sequence, hidden):\n",
    "        embedded = self.embedding(input_sequence)\n",
    "        encoder_output, encoder_hidden = self.encoder(embedded, hidden)\n",
    "        decoder_output, _ = self.decoder(embedded, encoder_hidden)\n",
    "        output = self.fc(decoder_output)\n",
    "        return output, encoder_hidden\n",
    "\n",
    "# Hyperparameters\n",
    "input_size = 10000  # Set according to your vocabulary size\n",
    "hidden_size = 256\n",
    "output_size = 10000  # Set according to your vocabulary size\n",
    "learning_rate = 0.001\n",
    "\n",
    "# Instantiate the model, loss function, and optimizer\n",
    "model = Seq2SeqModel(input_size, hidden_size, output_size)\n",
    "criterion = nn.CrossEntropyLoss()\n",
    "optimizer = optim.Adam(model.parameters(), lr=learning_rate)\n",
    "\n",
    "# Training loop\n",
    "num_epochs = 10\n",
    "for epoch in range(num_epochs):\n",
    "    for example in your_training_data:\n",
    "        input_sequence = example['informal']\n",
    "        target_sequence = example['formal.ref0']\n",
    "\n",
    "        # Convert input and target sequences to tensors, pad if necessary\n",
    "        # Perform forward and backward passes, update model parameters\n",
    "\n",
    "# Testing\n",
    "# Use your trained model to generate formal sentences from informal input\n"
   ]
  },
  {
   "cell_type": "code",
   "execution_count": 1,
   "metadata": {},
   "outputs": [
    {
     "ename": "ModuleNotFoundError",
     "evalue": "No module named 'torchtext'",
     "output_type": "error",
     "traceback": [
      "\u001b[0;31m---------------------------------------------------------------------------\u001b[0m",
      "\u001b[0;31mModuleNotFoundError\u001b[0m                       Traceback (most recent call last)",
      "Cell \u001b[0;32mIn[1], line 2\u001b[0m\n\u001b[1;32m      1\u001b[0m \u001b[38;5;28;01mimport\u001b[39;00m \u001b[38;5;21;01mjson\u001b[39;00m\n\u001b[0;32m----> 2\u001b[0m \u001b[38;5;28;01mfrom\u001b[39;00m \u001b[38;5;21;01mtorchtext\u001b[39;00m\u001b[38;5;21;01m.\u001b[39;00m\u001b[38;5;21;01mdata\u001b[39;00m \u001b[38;5;28;01mimport\u001b[39;00m Field, TabularDataset, BucketIterator\n\u001b[1;32m      4\u001b[0m \u001b[38;5;66;03m# Load JSON data\u001b[39;00m\n\u001b[1;32m      5\u001b[0m \u001b[38;5;28;01mwith\u001b[39;00m \u001b[38;5;28mopen\u001b[39m(\u001b[38;5;124m'\u001b[39m\u001b[38;5;124myour_data.json\u001b[39m\u001b[38;5;124m'\u001b[39m, \u001b[38;5;124m'\u001b[39m\u001b[38;5;124mr\u001b[39m\u001b[38;5;124m'\u001b[39m) \u001b[38;5;28;01mas\u001b[39;00m file:\n",
      "\u001b[0;31mModuleNotFoundError\u001b[0m: No module named 'torchtext'"
     ]
    }
   ],
   "source": [
    "import json\n",
    "from torchtext.data import Field, TabularDataset, BucketIterator\n",
    "\n",
    "# Load JSON data\n",
    "with open('your_data.json', 'r') as file:\n",
    "    data = json.load(file)\n",
    "\n",
    "# Define Fields for tokenization\n",
    "SRC = Field(tokenize='spacy', init_token='<sos>', eos_token='<eos>', lower=True)\n",
    "TRG = Field(tokenize='spacy', init_token='<sos>', eos_token='<eos>', lower=True)\n",
    "\n",
    "# Create TabularDataset\n",
    "fields = [('informal', SRC), ('formal.ref0', TRG)]\n",
    "examples = []\n",
    "for example in data:\n",
    "    examples.append(torchtext.data.Example.fromdict(example['transformation'], fields))\n",
    "\n",
    "dataset = TabularDataset(examples, fields)\n",
    "\n",
    "# Build vocabulary\n",
    "SRC.build_vocab(dataset, min_freq=2)\n",
    "TRG.build_vocab(dataset, min_freq=2)\n",
    "\n",
    "# Create iterators\n",
    "train_iterator, valid_iterator = BucketIterator.splits(\n",
    "    (dataset, dataset),\n",
    "    batch_size=64,\n",
    "    device=torch.device('cuda' if torch.cuda.is_available() else 'cpu')\n",
    ")\n"
   ]
  },
  {
   "cell_type": "code",
   "execution_count": null,
   "metadata": {},
   "outputs": [],
   "source": []
  }
 ],
 "metadata": {
  "kernelspec": {
   "display_name": "myenv",
   "language": "python",
   "name": "python3"
  },
  "language_info": {
   "codemirror_mode": {
    "name": "ipython",
    "version": 3
   },
   "file_extension": ".py",
   "mimetype": "text/x-python",
   "name": "python",
   "nbconvert_exporter": "python",
   "pygments_lexer": "ipython3",
   "version": "3.9.18"
  }
 },
 "nbformat": 4,
 "nbformat_minor": 2
}
