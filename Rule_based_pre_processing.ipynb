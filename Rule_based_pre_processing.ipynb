{
 "cells": [
  {
   "cell_type": "code",
   "execution_count": 1,
   "metadata": {},
   "outputs": [],
   "source": [
    "import os\n",
    "import re\n",
    "# import nltk\n",
    "import string\n",
    "from nltk import word_tokenize, pos_tag\n",
    "import contractions"
   ]
  },
  {
   "cell_type": "code",
   "execution_count": 2,
   "metadata": {},
   "outputs": [],
   "source": [
    "# nltk.download('punkt')\n",
    "# nltk.download('averaged_perceptron_tagger')"
   ]
  },
  {
   "cell_type": "code",
   "execution_count": 3,
   "metadata": {},
   "outputs": [],
   "source": [
    "# Function to capitalize the first letter of each sentence and proper nouns\n",
    "def capitalize_first_and_proper_nouns(text):\n",
    "    tokens = word_tokenize(text)\n",
    "    tagged = pos_tag(tokens)\n",
    "    result = []\n",
    "    for i in range(len(tagged)):\n",
    "        if i == 0:\n",
    "            result.append(tagged[i][0].capitalize())\n",
    "        elif tagged[i][1] == 'NNP' and tagged[i-1][0] == '.':\n",
    "            result.append(tagged[i][0].capitalize())\n",
    "        else:\n",
    "            result.append(tagged[i][0])\n",
    "    return ' '.join(result)"
   ]
  },
  {
   "cell_type": "code",
   "execution_count": 4,
   "metadata": {},
   "outputs": [],
   "source": [
    "# Function to remove repeated punctuations\n",
    "def remove_repeated_punctuations(text):\n",
    "    pattern = r'([' + re.escape(string.punctuation) + r'])\\1+'\n",
    "    return re.sub(pattern, r'\\1', text)"
   ]
  },
  {
   "cell_type": "code",
   "execution_count": 5,
   "metadata": {},
   "outputs": [],
   "source": [
    "# function to expand contractions\n",
    "def expand_contractions(text):\n",
    "    return contractions.fix(text)"
   ]
  },
  {
   "cell_type": "code",
   "execution_count": 6,
   "metadata": {},
   "outputs": [],
   "source": [
    "def preprocess(text):\n",
    "    # text = text.lower()\n",
    "    text = capitalize_first_and_proper_nouns(text)\n",
    "    text = expand_contractions(text)\n",
    "    text = remove_repeated_punctuations(text)\n",
    "    return text"
   ]
  },
  {
   "cell_type": "code",
   "execution_count": 7,
   "metadata": {},
   "outputs": [],
   "source": [
    "train_file_EM_informal = \"./GYAFC_Corpus/Entertainment_Music/train/informal\"\n",
    "train_file_FR_informal = \"./GYAFC_Corpus/Family_Relationships/train/informal\"\n",
    "\n",
    "with open(train_file_EM_informal, 'r') as f:\n",
    "    train_EM_informal = f.readlines()\n",
    "    EM_preprocessed = [preprocess(text) for text in train_EM_informal]\n",
    "\n",
    "with open(train_file_FR_informal, 'r') as f:\n",
    "    train_FR_informal = f.readlines()\n",
    "    FR_preprocessed = [preprocess(text) for text in train_FR_informal]\n",
    "\n",
    "with open('train_EM_informal_preprocessed.txt', 'w') as f:\n",
    "    for text in EM_preprocessed:\n",
    "        f.write(text + '\\n')\n",
    "\n",
    "with open('train_FR_informal_preprocessed.txt', 'w') as f:\n",
    "    for text in FR_preprocessed:\n",
    "        f.write(text + '\\n')"
   ]
  },
  {
   "cell_type": "code",
   "execution_count": null,
   "metadata": {},
   "outputs": [],
   "source": [
    "# # Function to process files in a directory\n",
    "# def process_files_in_directory(input_directory, output_directory):\n",
    "#     for subdir, dirs, files in os.walk(input_directory):\n",
    "#         for file in files:\n",
    "#             file_path = os.path.join(subdir, file)\n",
    "#             if file_path.endswith('.txt'):\n",
    "#                 with open(file_path, 'r', encoding='utf-8') as f:\n",
    "#                     original_text = f.read()\n",
    "                    \n",
    "#                     # Apply text processing functions\n",
    "#                     processed_text = capitalize_first_and_proper_nouns(original_text)\n",
    "#                     processed_text = remove_repeated_punctuations(processed_text)\n",
    "#                     processed_text = expand_contractions(processed_text)\n",
    "                    \n",
    "#                     # Create a new directory structure that mirrors the original one\n",
    "#                     new_subdir = subdir.replace(input_directory, output_directory)\n",
    "#                     os.makedirs(new_subdir, exist_ok=True)\n",
    "                    \n",
    "#                     # Write processed text back to a new file in the new directory\n",
    "#                     new_file_path = os.path.join(new_subdir, file)\n",
    "#                     with open(new_file_path, 'w', encoding='utf-8') as f_out:\n",
    "#                         f_out.write(processed_text)\n"
   ]
  },
  {
   "cell_type": "code",
   "execution_count": null,
   "metadata": {},
   "outputs": [],
   "source": [
    "# # Process train, test, and tune directories\n",
    "# directories_to_process = [\n",
    "#     ('GYAFC_Corpus/Entertainment_Music/train', 'Processed_Corpus/Entertainment_Music/train'),\n",
    "#     ('GYAFC_Corpus/Entertainment_Music/test', 'Processed_Corpus/Entertainment_Music/test'),\n",
    "#     ('GYAFC_Corpus/Entertainment_Music/tune', 'Processed_Corpus/Entertainment_Music/tune'),\n",
    "#     ('GYAFC_Corpus/Family_Relationships/train', 'Processed_Corpus/Family_Relationships/train'),\n",
    "#     ('GYAFC_Corpus/Family_Relationships/test', 'Processed_Corpus/Family_Relationships/test'),\n",
    "#     ('GYAFC_Corpus/Family_Relationships/tune', 'Processed_Corpus/Family_Relationships/tune'),\n",
    "# ]\n",
    "\n",
    "# for input_directory, output_directory in directories_to_process:\n",
    "#     process_files_in_directory(input_directory, output_directory)"
   ]
  },
  {
   "cell_type": "markdown",
   "metadata": {},
   "source": []
  }
 ],
 "metadata": {
  "kernelspec": {
   "display_name": "CVenv",
   "language": "python",
   "name": "python3"
  },
  "language_info": {
   "codemirror_mode": {
    "name": "ipython",
    "version": 3
   },
   "file_extension": ".py",
   "mimetype": "text/x-python",
   "name": "python",
   "nbconvert_exporter": "python",
   "pygments_lexer": "ipython3",
   "version": "3.9.18"
  }
 },
 "nbformat": 4,
 "nbformat_minor": 2
}
