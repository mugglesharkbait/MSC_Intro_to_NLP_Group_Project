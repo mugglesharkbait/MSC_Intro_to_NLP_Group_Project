{
 "cells": [
  {
   "cell_type": "code",
   "execution_count": 1,
   "metadata": {},
   "outputs": [
    {
     "name": "stdout",
     "output_type": "stream",
     "text": [
      "Requirement already satisfied: pandas in c:\\users\\user\\appdata\\local\\programs\\python\\python39\\lib\\site-packages (2.1.3)\n",
      "Requirement already satisfied: nltk in c:\\users\\user\\appdata\\local\\programs\\python\\python39\\lib\\site-packages (3.8.1)\n",
      "Requirement already satisfied: numpy<2,>=1.22.4 in c:\\users\\user\\appdata\\local\\programs\\python\\python39\\lib\\site-packages (from pandas) (1.26.1)\n",
      "Requirement already satisfied: python-dateutil>=2.8.2 in c:\\users\\user\\appdata\\local\\programs\\python\\python39\\lib\\site-packages (from pandas) (2.8.2)\n",
      "Requirement already satisfied: pytz>=2020.1 in c:\\users\\user\\appdata\\local\\programs\\python\\python39\\lib\\site-packages (from pandas) (2023.3.post1)\n",
      "Requirement already satisfied: tzdata>=2022.1 in c:\\users\\user\\appdata\\local\\programs\\python\\python39\\lib\\site-packages (from pandas) (2023.3)\n",
      "Requirement already satisfied: click in c:\\users\\user\\appdata\\local\\programs\\python\\python39\\lib\\site-packages (from nltk) (8.1.7)\n",
      "Requirement already satisfied: joblib in c:\\users\\user\\appdata\\local\\programs\\python\\python39\\lib\\site-packages (from nltk) (1.3.2)\n",
      "Requirement already satisfied: regex>=2021.8.3 in c:\\users\\user\\appdata\\local\\programs\\python\\python39\\lib\\site-packages (from nltk) (2023.10.3)\n",
      "Requirement already satisfied: tqdm in c:\\users\\user\\appdata\\local\\programs\\python\\python39\\lib\\site-packages (from nltk) (4.66.1)\n",
      "Requirement already satisfied: six>=1.5 in c:\\users\\user\\appdata\\local\\programs\\python\\python39\\lib\\site-packages (from python-dateutil>=2.8.2->pandas) (1.16.0)\n",
      "Requirement already satisfied: colorama in c:\\users\\user\\appdata\\local\\programs\\python\\python39\\lib\\site-packages (from click->nltk) (0.4.6)\n",
      "Note: you may need to restart the kernel to use updated packages.\n"
     ]
    }
   ],
   "source": [
    "%pip install pandas nltk"
   ]
  },
  {
   "cell_type": "code",
   "execution_count": 2,
   "metadata": {},
   "outputs": [],
   "source": [
    "import pandas as pd\n",
    "from nltk import ngrams\n",
    "from collections import defaultdict\n"
   ]
  },
  {
   "cell_type": "code",
   "execution_count": 3,
   "metadata": {},
   "outputs": [],
   "source": [
    "def read_data():\n",
    "    df_list=[]\n",
    "    for n in range(1,6):\n",
    "        df = pd.read_csv(f'./annotated_ngrams/{n}-gram.txt', sep='\\t')\n",
    "        df_list.append(df)\n",
    "    return df_list"
   ]
  },
  {
   "cell_type": "code",
   "execution_count": 4,
   "metadata": {},
   "outputs": [],
   "source": [
    "def evaluate_sentence(sentence, ngram_data_list):\n",
    "    average_scores=[]\n",
    "    # Divide the sentence into n-grams\n",
    "    for n in range(1, 6):\n",
    "        # Initialize total score and count for averaging\n",
    "        total_score = 0\n",
    "        ngrams_list = list(ngrams(sentence.split(), n))\n",
    "        count = 0\n",
    "        for ngram in ngrams_list:\n",
    "            ngram_key = ' '.join(ngram)\n",
    "            # Check if the n-gram entry exists in the aggregated data\n",
    "            if ngram_key in ngram_data_list[n-1]['n-gram'].values:\n",
    "                # Get the total score and total occurrences from the aggregated data\n",
    "                ngram_entry = ngram_data_list[n-1][ngram_data_list[n-1]['n-gram'] == ngram_key]\n",
    "                total_score += ngram_entry['average_score'].values[0]\n",
    "                count += 1\n",
    "        # Calculate the average score for the sentence\n",
    "        average_score = total_score / count if count > 0 else 0\n",
    "        average_scores.append(average_score)\n",
    "    return average_scores"
   ]
  },
  {
   "cell_type": "code",
   "execution_count": 5,
   "metadata": {},
   "outputs": [
    {
     "name": "stdout",
     "output_type": "stream",
     "text": [
      "Sentence: `Mr. Ramesh said 70 percent of India's iron ore lay in states infiltrated by Maoists; production in this area is stalled at 16 million tons a year even though the area has the potential to produce 100 million tons.`\n",
      "Score: [0.8237399883653753, 1.504411302878411, 1.7238738738738726, 1.7999999999999987, 1.7999999999999987]\n"
     ]
    }
   ],
   "source": [
    "# Example usage\n",
    "sentence = \"Mr. Ramesh said 70 percent of India's iron ore lay in states infiltrated by Maoists; production in this area is stalled at 16 million tons a year even though the area has the potential to produce 100 million tons.\"\n",
    "result = evaluate_sentence(sentence, read_data())\n",
    "print(f\"Sentence: `{sentence}`\\nScore: {result}\")\n",
    "#choose strategy for selecting one number\n",
    "# Options: \n",
    "# 1) largest n-gram score\n",
    "# 2)largest absolute formality score\n",
    "# 3) others"
   ]
  }
 ],
 "metadata": {
  "kernelspec": {
   "display_name": "Python 3",
   "language": "python",
   "name": "python3"
  },
  "language_info": {
   "codemirror_mode": {
    "name": "ipython",
    "version": 3
   },
   "file_extension": ".py",
   "mimetype": "text/x-python",
   "name": "python",
   "nbconvert_exporter": "python",
   "pygments_lexer": "ipython3",
   "version": "3.9.13"
  }
 },
 "nbformat": 4,
 "nbformat_minor": 2
}
